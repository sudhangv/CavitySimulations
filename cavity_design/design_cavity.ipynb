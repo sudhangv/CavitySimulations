{
 "cells": [
  {
   "cell_type": "code",
   "execution_count": 1,
   "metadata": {},
   "outputs": [],
   "source": [
    "import meep as mp\n",
    "import numpy as np\n",
    "from meep import mpb\n",
    "import matplotlib.pyplot as plt\n",
    "from lattice import *\n",
    "from sweep_util import *\n",
    "\n",
    "\n",
    "del_w, del_a, del_hy, del_hx = 0.05, 0.001, 0.025, 0.025\n",
    "w_max ,a_max = 0.7, 0.45\n",
    "w_min, a_min, hy_min, hx_min = 0.65, 0.25, 0.1, 0.05"
   ]
  },
  {
   "cell_type": "markdown",
   "metadata": {},
   "source": [
    "## Poly Spacing Set - up"
   ]
  },
  {
   "cell_type": "code",
   "execution_count": 2,
   "metadata": {
    "scrolled": true
   },
   "outputs": [
    {
     "name": "stdout",
     "output_type": "stream",
     "text": [
      "> \u001b[0;32m/home/sudhang/github_cloned_dir/CavitySimulations/cavity_design/lattice.py\u001b[0m(441)\u001b[0;36mpolynomial_fit\u001b[0;34m()\u001b[0m\n",
      "\u001b[0;32m    439 \u001b[0;31m    \u001b[0ma_interest\u001b[0m \u001b[0;34m=\u001b[0m \u001b[0ma_list\u001b[0m\u001b[0;34m[\u001b[0m \u001b[0mnp\u001b[0m\u001b[0;34m.\u001b[0m\u001b[0mwhere\u001b[0m\u001b[0;34m(\u001b[0m\u001b[0mgamma_arr\u001b[0m \u001b[0;34m>\u001b[0m \u001b[0;36m0\u001b[0m\u001b[0;34m)\u001b[0m\u001b[0;34m]\u001b[0m\u001b[0;34m[\u001b[0m \u001b[0;34m:\u001b[0m \u001b[0mlen\u001b[0m\u001b[0;34m(\u001b[0m\u001b[0mgamma_interest\u001b[0m\u001b[0;34m)\u001b[0m \u001b[0;34m]\u001b[0m\u001b[0;34m\u001b[0m\u001b[0;34m\u001b[0m\u001b[0m\n",
      "\u001b[0m\u001b[0;32m    440 \u001b[0;31m    \u001b[0mbreakpoint\u001b[0m\u001b[0;34m(\u001b[0m\u001b[0;34m)\u001b[0m\u001b[0;34m\u001b[0m\u001b[0;34m\u001b[0m\u001b[0m\n",
      "\u001b[0m\u001b[0;32m--> 441 \u001b[0;31m    \u001b[0mp_coeff\u001b[0m \u001b[0;34m=\u001b[0m \u001b[0mnp\u001b[0m\u001b[0;34m.\u001b[0m\u001b[0mpolyfit\u001b[0m\u001b[0;34m(\u001b[0m\u001b[0mgamma_interest\u001b[0m\u001b[0;34m,\u001b[0m \u001b[0ma_interest\u001b[0m\u001b[0;34m,\u001b[0m \u001b[0mdegree\u001b[0m\u001b[0;34m)\u001b[0m       \u001b[0;31m# degress of freedom for the polynomial\u001b[0m\u001b[0;34m\u001b[0m\u001b[0;34m\u001b[0m\u001b[0m\n",
      "\u001b[0m\u001b[0;32m    442 \u001b[0;31m\u001b[0;34m\u001b[0m\u001b[0m\n",
      "\u001b[0m\u001b[0;32m    443 \u001b[0;31m    \u001b[0;32mreturn\u001b[0m \u001b[0mp_coeff\u001b[0m\u001b[0;34m\u001b[0m\u001b[0;34m\u001b[0m\u001b[0m\n",
      "\u001b[0m\n",
      "ipdb> c\n"
     ]
    },
    {
     "name": "stderr",
     "output_type": "stream",
     "text": [
      "/home/sudhang/github_cloned_dir/CavitySimulations/cavity_design/lattice.py:340: RankWarning: Polyfit may be poorly conditioned\n",
      "  poly_coeff = polynomial_fit(self.data, w , hy, hx , gamma_mirror, degree = 8 )\n"
     ]
    },
    {
     "name": "stdout",
     "output_type": "stream",
     "text": [
      "> \u001b[0;32m/home/sudhang/github_cloned_dir/CavitySimulations/cavity_design/lattice.py\u001b[0m(347)\u001b[0;36mpolynomial_elliptical_hole_taper\u001b[0;34m()\u001b[0m\n",
      "\u001b[0;32m    345 \u001b[0;31m        \u001b[0ma_arr\u001b[0m\u001b[0;34m.\u001b[0m\u001b[0msort\u001b[0m\u001b[0;34m(\u001b[0m\u001b[0;34m)\u001b[0m\u001b[0;34m\u001b[0m\u001b[0;34m\u001b[0m\u001b[0m\n",
      "\u001b[0m\u001b[0;32m    346 \u001b[0;31m        \u001b[0mbreakpoint\u001b[0m\u001b[0;34m(\u001b[0m\u001b[0;34m)\u001b[0m\u001b[0;34m\u001b[0m\u001b[0;34m\u001b[0m\u001b[0m\n",
      "\u001b[0m\u001b[0;32m--> 347 \u001b[0;31m        \u001b[0mself\u001b[0m\u001b[0;34m.\u001b[0m\u001b[0mpoly_spacing\u001b[0m \u001b[0;34m=\u001b[0m \u001b[0mnp\u001b[0m\u001b[0;34m.\u001b[0m\u001b[0mappend\u001b[0m\u001b[0;34m(\u001b[0m\u001b[0ma_arr\u001b[0m\u001b[0;34m,\u001b[0m \u001b[0mnp\u001b[0m\u001b[0;34m.\u001b[0m\u001b[0mzeros\u001b[0m\u001b[0;34m(\u001b[0m\u001b[0mN_mirror\u001b[0m\u001b[0;34m)\u001b[0m\u001b[0;34m)\u001b[0m\u001b[0;34m\u001b[0m\u001b[0;34m\u001b[0m\u001b[0m\n",
      "\u001b[0m\u001b[0;32m    348 \u001b[0;31m\u001b[0;34m\u001b[0m\u001b[0m\n",
      "\u001b[0m\u001b[0;32m    349 \u001b[0;31m        \u001b[0;32mfor\u001b[0m \u001b[0mi\u001b[0m \u001b[0;32min\u001b[0m \u001b[0mrange\u001b[0m\u001b[0;34m(\u001b[0m\u001b[0mN_mirror\u001b[0m\u001b[0;34m)\u001b[0m\u001b[0;34m:\u001b[0m\u001b[0;34m\u001b[0m\u001b[0;34m\u001b[0m\u001b[0m\n",
      "\u001b[0m\n",
      "ipdb> c\n"
     ]
    }
   ],
   "source": [
    "number_of_tapered_holes = 10\n",
    "\n",
    "hx = 0.25\n",
    "hy = 0.45\n",
    "w = 0.65\n",
    "a_center = 0.374\n",
    "a_mirror = 0.43\n",
    "h = 0.19\n",
    "\n",
    "substrate = True\n",
    "mode = \"yO\"\n",
    "\n",
    "lattice = OneDLattice(Lx = 20, filename = \"sub_190_yO.hdf5\")\n",
    "z = lattice.polynomial_elliptical_hole_taper(number_of_tapered_holes = number_of_tapered_holes, \n",
    "                                       hx = hx, \n",
    "                                       hy = hy, \n",
    "                                       w = w, \n",
    "                                       a_center = a_center, \n",
    "                                       a_mirror = a_mirror)\n",
    "lattice.apply_poly_spacing()"
   ]
  },
  {
   "cell_type": "code",
   "execution_count": null,
   "metadata": {
    "scrolled": true
   },
   "outputs": [],
   "source": [
    "np.round(lattice.poly_spacing,3)\n",
    "lattice.poly_spacing"
   ]
  },
  {
   "cell_type": "code",
   "execution_count": null,
   "metadata": {
    "scrolled": false
   },
   "outputs": [],
   "source": [
    "#------------------- check if spacings and coordinates are correct --------------------#\n",
    "for i in range(19):\n",
    "    print( lattice.poly_spacing[i+1] - 2 * (lattice.coordinates[i + 1][0] - lattice.coordinates[i][0]) + lattice.poly_spacing[i])\n"
   ]
  },
  {
   "cell_type": "markdown",
   "metadata": {},
   "source": [
    "## Pow Spacing Set - up"
   ]
  },
  {
   "cell_type": "code",
   "execution_count": null,
   "metadata": {},
   "outputs": [],
   "source": [
    "#------------------ Pow Spacing Set - up ---------------------#\n",
    "N_taper = 10\n",
    "hx = 0.143\n",
    "hy = 0.315\n",
    "w = 0.65\n",
    "a_center = 0.314\n",
    "a_mirror = 0.361\n",
    "Lx = 20\n",
    "h = 0.22\n",
    "lattice = OneDLattice(Lx = Lx)\n",
    "spacings = lattice.pow_degree_a_taper(N_taper, hx, hy , w , a_center, a_mirror)\n",
    "lattice.apply_pow_spacing()"
   ]
  },
  {
   "cell_type": "code",
   "execution_count": null,
   "metadata": {
    "scrolled": false
   },
   "outputs": [],
   "source": [
    "lattice.pow_spacing"
   ]
  },
  {
   "cell_type": "code",
   "execution_count": null,
   "metadata": {
    "scrolled": true
   },
   "outputs": [],
   "source": [
    "#------------------ Normal Spacing Set - up ---------------------#\n",
    "lattice = OneDLattice(Lx = 20)\n",
    "lattice.normal_spacing(0.303, 0.143, 0.315)\n",
    "lattice.coordinates"
   ]
  },
  {
   "cell_type": "markdown",
   "metadata": {},
   "source": [
    "## To check lower band edges of mirror segments vs. w_target"
   ]
  },
  {
   "cell_type": "code",
   "execution_count": null,
   "metadata": {
    "scrolled": true
   },
   "outputs": [],
   "source": [
    "#----------- To check lower band edges of mirror segments vs. w_target ----------#\n",
    "\n",
    "band_upper = []\n",
    "band_lower = []\n",
    "target_f = []\n",
    "\n",
    "a_range = lattice.poly_spacing\n",
    "#a_range = lattice.pow_spacing\n",
    "#a_range = np.arange(0.25, 0.275, 0.001)\n",
    "\n",
    "for a in a_range:\n",
    "    \n",
    "    freq = np.array(get_freqs(hx = hx, hy = hy, a = a, w = w, h = h, \n",
    "                              mode = mode, substrate = substrate))\n",
    "    \n",
    "    freq[0] = convert_freq_to_Thz(freq[0], a)\n",
    "    freq[1] = convert_freq_to_Thz(freq[1], a)\n",
    "\n",
    "    freq_target = convert_freq_to_Thz(1/1.54) * 1.01 \n",
    "    \n",
    "    band_lower.append(freq[0])\n",
    "    band_upper.append(freq[1])\n",
    "    target_f.append(freq_target)\n",
    "    \n"
   ]
  },
  {
   "cell_type": "code",
   "execution_count": null,
   "metadata": {},
   "outputs": [],
   "source": [
    "plt.xticks(np.round(np.linspace(a_range[0], a_range[-1], 7), 3))\n",
    "plt.title(\"hx = {}. hy = {}, w = {}, h = {}, mode = {}, substrate = {}\".format(hx, hy, w, h, mode, substrate))\n",
    "plt.xlabel(\"a\")\n",
    "plt.ylabel(\"Frequency in Thz\")\n",
    "plt.plot(a_range,target_f, 'r', label = \"target_f\" )\n",
    "plt.plot(a_range,band_lower, 'bx', label = \"band_lower\" )\n",
    "plt.plot(a_range,band_upper, 'rx', label = \"band_upper\" )\n",
    "plt.grid()\n",
    "plt.legend()"
   ]
  },
  {
   "cell_type": "markdown",
   "metadata": {},
   "source": [
    "## Plot mirror strength for the range $a - range$ "
   ]
  },
  {
   "cell_type": "code",
   "execution_count": null,
   "metadata": {
    "scrolled": true
   },
   "outputs": [],
   "source": [
    "#------- Plot mirror strength for the range a_range -------#\n",
    "\n",
    "mirror_strength = []\n",
    "\n",
    "a_range = lattice.poly_spacing\n",
    "#a_range = lattice.pow_spacing\n",
    "\n",
    "for a in a_range: \n",
    "     freq = get_freqs(hx = hx, hy = hy, a = a, w = w, h = h, \n",
    "                      mode = mode, substrate = substrate)\n",
    "        \n",
    "     mirror_strength.append(get_gamma(freq, a))\n",
    "\n",
    "x_range = np.array(range(len(a_range))) + 1\n",
    "\n",
    "plt.xticks(x_range)\n",
    "plt.title(\"hx = {}. hy = {}, w = {} , h = {}, a = ({},{}), mode = {}, sub = {}\".format(hx, hy, w, h , a_center, a_mirror, mode, substrate), pad = 10)\n",
    "plt.xlabel(\"Mirror Segment Number\", labelpad = 10)\n",
    "plt.ylabel(\"Mirror Strength\", labelpad = 10)\n",
    "plt.grid()\n",
    "plt.plot(x_range, mirror_strength, 'x')\n",
    "#plt.plot( a_range, mirror_strength, 'x')"
   ]
  },
  {
   "cell_type": "markdown",
   "metadata": {},
   "source": [
    "# hdf5 Data Analysis / General "
   ]
  },
  {
   "cell_type": "code",
   "execution_count": null,
   "metadata": {},
   "outputs": [],
   "source": [
    "import h5py\n",
    "import numpy as np\n",
    "# ------------ to find a_cen for resonance from the hdf5 file -----------------#\n",
    "with h5py.File(\"sub_190_yO.hdf5\") as f:\n",
    "    gamma = np.array(f.get(\"gamma\"))\n",
    "    \n",
    "    freq = np.array(f.get(\"freq\"))"
   ]
  },
  {
   "cell_type": "code",
   "execution_count": null,
   "metadata": {
    "scrolled": false
   },
   "outputs": [],
   "source": [
    "a_range = np.linspace(0.34 , 0.4, 20)\n",
    "mirror_str = []\n",
    "for a in a_range:\n",
    "    mirror_str.append(get_gamma(get_freqs(hx = 0.143, hy = 0.315, a = a, wy = 0.65, h = 0.25), a = a))\n",
    "\n",
    "plt.plot(a_range, mirror_str, 'bx')"
   ]
  },
  {
   "cell_type": "code",
   "execution_count": null,
   "metadata": {},
   "outputs": [],
   "source": [
    "#------------------------------------------------#\n",
    "#      Plotting gamma vs. desired slice\n",
    "#------------------------------------------------#\n",
    "\n",
    "data = load_data(filename = \"sweep_data(1).hdf5\")\n",
    "pow = 1\n",
    "\n",
    "a_mirror = 0.347\n",
    "gamma_mirror = data[index_w, index_a, index_hy, index_hx]\n",
    "\n",
    "a_list = np.arange( a_min, a_max, del_a)\n",
    "gamma_arr = data[index_w, :, index_hy, index_hx]\n",
    "\n",
    "gamma_NZ = gamma_arr[ gamma_arr > 0]\n",
    "\n",
    "gamma_interest = gamma_NZ[ : np.where( (gamma_NZ == gamma_mirror))[0][0]]\n",
    "a_interest = a_list[ np.where(gamma_arr > 0)][ : len(gamma_interest) ]\n",
    "\n",
    "\n",
    "# X = np.arange(a_min, a_max, del_a)** pow\n",
    "# Y = data[index_w, : , index_hy, index_hx]\n",
    "\n",
    "X = gamma_interest\n",
    "Y = a_interest\n",
    "\n",
    "plt.xlabel(\"a^{}(nm)\".format(pow))\n",
    "plt.ylabel(\"Mirror Strength \")\n",
    "\n",
    "plt.title(\"hx = {}, hy = {}, w = {} (nm)\".format( hx * 1000, hy * 1000, w * 1000))\n",
    "\n",
    "#plt.stem(X,Y, linefmt = \"C0--\")\n",
    "#plt.xticks(np.arange(hx_min, a - 0.07, del_hx) )\n",
    "\n",
    "plt.plot(a_interest, gamma_interest)\n",
    "#plt.plot(Y[Y>0], X[X > 0.3899],'-')\n",
    "#plt.plot(X[X > 0.3899], Y[Y>0], '-')\n",
    "print(a_interest[0])\n",
    "#plt.show()"
   ]
  },
  {
   "cell_type": "code",
   "execution_count": null,
   "metadata": {},
   "outputs": [],
   "source": [
    "hx = 0.25\n",
    "hy = 0.45\n",
    "a = 0.4\n",
    "w = 0.7\n",
    "\n",
    "# mirror_str = []\n",
    "# for a in np.arange(0.4, 0.401, 0.001):\n",
    "#     mirror_str.append(get_gamma(get_freqs(hx, hy, a , w), a))\n",
    "\n",
    "get_gamma(get_freqs(hx, hy, a , w), a)"
   ]
  },
  {
   "cell_type": "code",
   "execution_count": null,
   "metadata": {},
   "outputs": [],
   "source": [
    "import seaborn as sb\n",
    "heat_map = sb.heatmap(data)\n",
    "plt.xlabel(\"(hy-hy_min)/del_hy\", labelpad = 20, fontsize='large', fontweight='bold')\n",
    "plt.ylabel(\"(a - a_min)/del_a\", labelpad = 20, fontsize='large', fontweight='bold')\n",
    "plt.title(\"hx = {} nm, w = {} nm\".format(hx*1000, w * 1000), fontsize='large', fontweight='bold', pad = 20)"
   ]
  },
  {
   "cell_type": "code",
   "execution_count": null,
   "metadata": {},
   "outputs": [],
   "source": [
    "hx = 0.2 \n",
    "hy = 0.35 \n",
    "a = 0.383 \n",
    "w = 0.65\n",
    "index_w ,index_a, index_hy, index_hx = get_index(w, a, hy, hx)\n",
    "\n"
   ]
  },
  {
   "cell_type": "code",
   "execution_count": null,
   "metadata": {},
   "outputs": [],
   "source": [
    "param_range = np.arange(0.390, 0.440, 0.002)\n",
    "for a_i in param_range:\n",
    "    print(get_freq_Thz(hx = hx, hy = hy, a = a_i, w = w, substrate= True, mode= \"zEyO\", h = 0.19))"
   ]
  },
  {
   "cell_type": "code",
   "execution_count": null,
   "metadata": {},
   "outputs": [],
   "source": [
    "# #----------------- Load and clean data ---------------------#\n",
    "\n",
    "# hf = h5py.File('sweep_data(1).hdf5', 'r')\n",
    "# data = np.array( hf.get(\"data\"))\n",
    "# data = data\n",
    "# hf.close()\n",
    "\n",
    "\n",
    "\n",
    "# x = np.where(data == - 1)\n",
    "# for i in range(len(x[0])):\n",
    "#     data[x[0][i], x[1][i], x[2][i], x[3][i] ] = 0    # data cleaning "
   ]
  },
  {
   "cell_type": "code",
   "execution_count": null,
   "metadata": {
    "scrolled": true
   },
   "outputs": [],
   "source": [
    "get_gamma_from_Thz(get_freq_Thz(hx = hx, hy = hy, a = 0.345, w = w, substrate= True, mode= \"yO\", h = 0.19), \n",
    "                   check_freq = 196.75324675324677)"
   ]
  },
  {
   "cell_type": "code",
   "execution_count": 6,
   "metadata": {},
   "outputs": [
    {
     "name": "stdout",
     "output_type": "stream",
     "text": [
      " h = 0.19, SUBSTRATE = True, mode = yO\n",
      "Initializing eigensolver data\n",
      "Computing 2 bands with 1e-07 tolerance\n",
      "Working in 3 dimensions.\n",
      "Grid size is 20 x 80 x 80.\n",
      "Solving for 2 bands at a time.\n",
      "Creating Maxwell data...\n",
      "Mesh size is 3.\n",
      "Lattice vectors:\n",
      "     (1, 0, 0)\n",
      "     (0, 4, 0)\n",
      "     (0, 0, 4)\n",
      "Cell volume = 16\n",
      "Reciprocal lattice vectors (/ 2 pi):\n",
      "     (1, -0, 0)\n",
      "     (-0, 0.25, -0)\n",
      "     (0, -0, 0.25)\n",
      "Geometric objects:\n",
      "     block, center = (0,0,0)\n",
      "          size (1e+20,1.88679,0.512129)\n",
      "          axes (1,0,0), (0,1,0), (0,0,1)\n",
      "     ellipsoid, center = (0,0,0)\n",
      "          size (0.673854,1.34771,1e+20)\n",
      "          axes (1,0,0), (0,1,0), (0,0,1)\n",
      "     block, center = (0,0,-1.12803)\n",
      "          size (1e+20,1e+20,1.74394)\n",
      "          axes (1,0,0), (0,1,0), (0,0,1)\n",
      "Geometric object tree has depth 2 and 27 object nodes (vs. 3 actual objects)\n",
      "Initializing epsilon function...\n",
      "Allocating fields...\n",
      "Solving for band polarization: yodd.\n",
      "Initializing fields to random numbers...\n",
      "1 k-points\n",
      "  Vector3<0.5, 0.0, 0.0>\n",
      "elapsed time for initialization: 0.14401984214782715\n",
      "solve_kpoint (0.5,0,0):\n",
      "yoddfreqs:, k index, k1, k2, k3, kmag/2pi, yodd band 1, yodd band 2\n",
      "Solving for bands 1 to 2...\n",
      "Finished solving for bands 1 to 2 after 35 iterations.\n",
      "yoddfreqs:, 1, 0.5, 0, 0, 0.5, 0.242802, 0.335743\n",
      "elapsed time for k point: 4.585920572280884\n",
      "total elapsed time for run: 4.730101585388184\n",
      "done\n"
     ]
    },
    {
     "data": {
      "text/plain": [
       "array([196.33582664, 271.48989656])"
      ]
     },
     "execution_count": 6,
     "metadata": {},
     "output_type": "execute_result"
    }
   ],
   "source": [
    "get_freq_Thz(hx = 0.25, hy = 0.5, a = 0.371, w = 0.7, substrate= True, mode= \"yO\", h = 0.19)"
   ]
  },
  {
   "cell_type": "markdown",
   "metadata": {},
   "source": [
    "## Not sure what this is"
   ]
  },
  {
   "cell_type": "code",
   "execution_count": null,
   "metadata": {},
   "outputs": [],
   "source": [
    "def a_normal_cavity(geom = None, n_segments=20, waveguide_parameters= None, substrate_parameters=None):    \n",
    "    \n",
    "    if geom is None:\n",
    "        geom = []\n",
    "\n",
    "    if waveguide_parameters is None:\n",
    "        waveguide_parameters = {}\n",
    "\n",
    "    if substrate_parameters is None:\n",
    "        substrate_parameters = {}\n",
    "\n",
    "    geom = add_waveguide_1d(geom=geom)\n",
    "\n",
    "    geom, _ = _a_tapering(geom=geom, n_segments=n_segments)\n",
    "\n",
    "    # geom = add_substrate(geom=geom, **substrate_parameters)                                                           \n",
    "    return geom"
   ]
  },
  {
   "cell_type": "code",
   "execution_count": null,
   "metadata": {},
   "outputs": [],
   "source": [
    "def _a_normal_tapering(geom=None, n_segments=20, material_holes=mp.vacuum):\n",
    "    \n",
    "    if geom is None:\n",
    "        geom = []\n",
    "    material_holes = index_to_material(material_holes)\n",
    "\n",
    "    _cavity = OneDLattice(Lx = n_segments)\n",
    "    _cavity.normal_spacing(a = 0.303, hx = 0.143, hy = 0.315)\n",
    "    \n",
    "    for x, y, z, hx, hy in _cavity.coordinates:\n",
    "        # holes are completely filled with tuning material:\n",
    "        geom.append(mp.Ellipsoid(material=material_holes,\n",
    "                                         center=mp.Vector3(x, y, z),\n",
    "                                         size=mp.Vector3(hx, hy, mp.inf)\n",
    "        geom.append(mp.Ellipsoid(material=material_holes,\n",
    "                                         center=mp.Vector3(-x, y, z),\n",
    "                                         size=mp.Vector3(hx, hy, mp.inf)))\n",
    "                                 \n",
    "    return geom, length"
   ]
  },
  {
   "cell_type": "markdown",
   "metadata": {},
   "source": [
    "# Checking For Polynomial Fitting\n"
   ]
  },
  {
   "cell_type": "code",
   "execution_count": null,
   "metadata": {},
   "outputs": [],
   "source": [
    "gamma_interest = np.array([0.0167, 0.0314, 0.0409, 0.0484, 0.0548, 0.0602, 0.0655, 0.0703,\n",
    "       0.0749, 0.0791, 0.0829, 0.0865, 0.0899, 0.0928, 0.0958, 0.0987,\n",
    "       0.1014, 0.1038, 0.1061, 0.1083, 0.1102, 0.1122, 0.1141, 0.1161,\n",
    "       0.1151, 0.117 , 0.1188, 0.1205, 0.1222, 0.1238, 0.1253, 0.1268,\n",
    "       0.1282, 0.1296, 0.1309, 0.1321, 0.1334, 0.1345, 0.1356, 0.1364,\n",
    "       0.1373, 0.1381, 0.1389, 0.1395, 0.1402, 0.1405, 0.1411, 0.1417,\n",
    "       0.1423, 0.1428, 0.1433, 0.1439, 0.1442, 0.1446, 0.1449, 0.1438,\n",
    "       0.1442, 0.1445, 0.1448, 0.1451, 0.1453, 0.1455, 0.1456, 0.1458,\n",
    "       0.1459])\n",
    "\n",
    "a_interest = np.array([0.384, 0.385, 0.386, 0.387, 0.388, 0.389, 0.39 , 0.391, 0.392,\n",
    "       0.393, 0.394, 0.395, 0.396, 0.397, 0.398, 0.399, 0.4  , 0.401,\n",
    "       0.402, 0.403, 0.404, 0.405, 0.406, 0.407, 0.408, 0.409, 0.41 ,\n",
    "       0.411, 0.412, 0.413, 0.414, 0.415, 0.416, 0.417, 0.418, 0.419,\n",
    "       0.42 , 0.421, 0.422, 0.423, 0.424, 0.425, 0.426, 0.427, 0.428,\n",
    "       0.429, 0.43 , 0.431, 0.432, 0.433, 0.434, 0.435, 0.436, 0.437,\n",
    "       0.438, 0.439, 0.44 , 0.441, 0.442, 0.443, 0.444, 0.445, 0.446,\n",
    "       0.447, 0.448])"
   ]
  },
  {
   "cell_type": "code",
   "execution_count": null,
   "metadata": {},
   "outputs": [],
   "source": [
    "poly = np.poly1d(np.polyfit(gamma_interest, a_interest, deg = 8))\n",
    "plt.plot(np.arange(0.02, 0.14, 0.001), poly(np.arange(0.02, 0.14, 0.001)))\n",
    "plt.plot(gamma_interest, a_interest, 'x')"
   ]
  },
  {
   "cell_type": "markdown",
   "metadata": {},
   "source": [
    "# Mode Analysis\n",
    "\n",
    "The code below imports a get_freqs and is used to modify the output from the modesolver object to analyze mode profiles.\n",
    "\n",
    "- Plotting Fields and Epsilon Function\n",
    "- \n",
    "\n",
    "\n"
   ]
  },
  {
   "cell_type": "code",
   "execution_count": 5,
   "metadata": {
    "scrolled": true
   },
   "outputs": [],
   "source": [
    "def get_freqs(hx , hy , a , w , h = 0.22, substrate = False, output_epsilon = False ,mode = \"zEyO\", num_bands = 2):\n",
    "    \n",
    "    # h = 0.23    # for manually setting waveguide height \n",
    "    res = 20\n",
    "    #mode = \"zEyO\"\n",
    "    resolution = res  # pixels/a, taken from simpetus example\n",
    "    \n",
    "    print(\" h = \" + str(h) + \", SUBSTRATE = \" + str(substrate) + \", mode = \" + str(mode))\n",
    "    \n",
    "    a = round(a,3)        # units of um\n",
    "    h = round(h, 3)         # units of um\n",
    "    w = round(w, 3)         # units of um\n",
    "    hx = round(hx, 3)\n",
    "    hy = round(hy, 3)\n",
    "    \n",
    "    h = h/a          # units of \"a\"       \n",
    "    w = w/a          # units of \"a\"\n",
    "    hx = hx/a        # units of \"a\"\n",
    "    hy = hy/a        # units of \"a\"\n",
    "    \n",
    "    cell_x = 1\n",
    "    cell_y = 4\n",
    "    cell_z = 4\n",
    "\n",
    "\n",
    "    nSi = 3.45\n",
    "    Si = mp.Medium(index=nSi)\n",
    "\n",
    "    geometry_lattice = mp.Lattice(size=mp.Vector3(cell_x , cell_y , cell_z)) # dimensions of lattice taken from simpetus example\n",
    "\n",
    "    geometry = [ mp.Block(center=mp.Vector3(), size=mp.Vector3(mp.inf, w ,h ), material=Si),\n",
    "             mp.Ellipsoid(material=mp.air,\n",
    "             center=mp.Vector3(),\n",
    "             size=mp.Vector3(hx,hy,mp.inf)) ]\n",
    "    \n",
    "    if substrate:\n",
    "        geometry = add_substrate(geom = geometry, waveguide_height = h, substrate_height = cell_z/2 - h/2 )  # substrate height normalized with a \n",
    "\n",
    "\n",
    "    k_points = [mp.Vector3(0.5, 0, 0)]\n",
    "    \n",
    "    num_bands = num_bands \n",
    "\n",
    "    ms = mpb.ModeSolver(geometry_lattice=geometry_lattice,\n",
    "                        geometry=geometry,\n",
    "                        k_points=k_points,\n",
    "                        resolution=resolution,\n",
    "                        num_bands=num_bands)\n",
    "\n",
    "    if mode == \"vanilla\":\n",
    "        \n",
    "        ms.run(mpb.fix_efield_phase) # running for all modes and extracting parities\n",
    "        \n",
    "    if mode == \"zEyO\":\n",
    "        \n",
    "        ms.run_yodd_zeven(mpb.fix_efield_phase)\n",
    "    \n",
    "    if mode == \"yO\":\n",
    "        \n",
    "        ms.run_yodd(mpb.fix_efield_phase)\n",
    "        \n",
    "    if mode == \"yE\":\n",
    "        \n",
    "        ms.run_yeven(mpb.fix_efield_phase)\n",
    "    \n",
    "    e_field = ms.get_efield(1, bloch_phase= True)\n",
    "    eps = ms.get_epsilon()\n",
    "    \n",
    "    return (e_field, eps)"
   ]
  },
  {
   "cell_type": "code",
   "execution_count": 6,
   "metadata": {},
   "outputs": [],
   "source": [
    "def add_substrate(geom=None, waveguide_height = 0.22, substrate_height = 5, material=mp.Medium(index=1.44)):\n",
    "    \"\"\"\n",
    "    Creates a (by default SiO2) substrate.\n",
    "    If the unlike case occurs that we need to change the center, we could again make everything relative to the center\n",
    "    of the substrate.\n",
    "    \"\"\"\n",
    "    if geom is None:\n",
    "        geom = []\n",
    "\n",
    "    _center = mp.Vector3(0, 0, -waveguide_height/2 - substrate_height/2)\n",
    "\n",
    "    geom.append(mp.Block(material= material, \n",
    "                         center=_center, \n",
    "                         size= mp.Vector3(mp.inf, \n",
    "                                          mp.inf, \n",
    "                                          substrate_height)))\n",
    "                \n",
    "    return geom"
   ]
  },
  {
   "cell_type": "code",
   "execution_count": null,
   "metadata": {
    "scrolled": true
   },
   "outputs": [],
   "source": [
    "e_field, eps = get_freqs(hx = 0.25, hy = 0.45, w = 0.65, h = 0.19, mode = 'vanilla', substrate = False, a= 0.374 )"
   ]
  },
  {
   "cell_type": "code",
   "execution_count": null,
   "metadata": {},
   "outputs": [],
   "source": [
    "np.real(np.array(e_field))"
   ]
  },
  {
   "cell_type": "code",
   "execution_count": 10,
   "metadata": {},
   "outputs": [
    {
     "data": {
      "image/png": "[encoded data removed]",
      "text/plain": [
       "<Figure size 360x360 with 2 Axes>"
      ]
     },
     "metadata": {
      "needs_background": "light"
     },
     "output_type": "display_data"
    }
   ],
   "source": [
    "#plt.style(\"seaborn\")\n",
    "plt.figure(figsize=(5,5))\n",
    "plt.imshow(eps[:, :, 39].T, cmap = 'binary', interpolation = 'spline36')\n",
    "plt.imshow(e_field[:, :, 39, 1].real.T, cmap = 'seismic', alpha = 0.5, interpolation = 'spline36', \n",
    "           vmin = -0.07 , vmax= 0.07)\n",
    "\n",
    "plt.gca().invert_yaxis()\n",
    "plt.colorbar()\n",
    "#plt.title(\"e_field.y (hx = 0.275, hy = 0.5, w = 0.7, h = 0.19, mode = 'yO', substrate = True, a= 0.385 )\")\n",
    "plt.xlabel('x')\n",
    "plt.ylabel('y')\n",
    "plt.xticks(ticks = [])\n",
    "plt.yticks(ticks = [])\n",
    "plt.show()"
   ]
  },
  {
   "cell_type": "code",
   "execution_count": null,
   "metadata": {},
   "outputs": [],
   "source": []
  },
  {
   "cell_type": "code",
   "execution_count": null,
   "metadata": {},
   "outputs": [],
   "source": []
  }
 ],
 "metadata": {
  "kernelspec": {
   "display_name": "Python 3",
   "language": "python",
   "name": "python3"
  },
  "language_info": {
   "codemirror_mode": {
    "name": "ipython",
    "version": 3
   },
   "file_extension": ".py",
   "mimetype": "text/x-python",
   "name": "python",
   "nbconvert_exporter": "python",
   "pygments_lexer": "ipython3",
   "version": "3.7.8"
  }
 },
 "nbformat": 4,
 "nbformat_minor": 4
}
